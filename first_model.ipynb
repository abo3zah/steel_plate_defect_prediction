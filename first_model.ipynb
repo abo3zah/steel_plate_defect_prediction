{
  "nbformat": 4,
  "nbformat_minor": 0,
  "metadata": {
    "colab": {
      "provenance": [],
      "authorship_tag": "ABX9TyM6aZ2l5Z8ZZkavnfUWPGiF",
      "include_colab_link": true
    },
    "kernelspec": {
      "name": "python3",
      "display_name": "Python 3"
    },
    "language_info": {
      "name": "python"
    }
  },
  "cells": [
    {
      "cell_type": "markdown",
      "metadata": {
        "id": "view-in-github",
        "colab_type": "text"
      },
      "source": [
        "<a href=\"https://colab.research.google.com/github/abo3zah/steel_plate_defect_prediction/blob/main/first_model.ipynb\" target=\"_parent\"><img src=\"https://colab.research.google.com/assets/colab-badge.svg\" alt=\"Open In Colab\"/></a>"
      ]
    },
    {
      "cell_type": "code",
      "execution_count": 5,
      "metadata": {
        "id": "ZTHpASolB9Re"
      },
      "outputs": [],
      "source": [
        "import pandas as pd\n",
        "import matplotlib.pyplot as plt\n",
        "import seaborn as sns"
      ]
    },
    {
      "cell_type": "code",
      "source": [
        "train_url = 'https://storage.googleapis.com/kaggle-competitions-data/kaggle-v2/68699/7659021/compressed/train.csv.zip?GoogleAccessId=web-data@kaggle-161607.iam.gserviceaccount.com&Expires=1709640171&Signature=nywqH7nfYwwFR4btJaLjjR4E%2FOZBx4cOPq44YW77Bz0ZvhMG4Xn02m%2FcSbrJaAi937fLt7Pu1jpr5K5WMhx31JYkzVwLj%2FWp7dYjpKM0KmJupJpVK6uRYMyVZFBtB%2BUxl3tHeAM5Cz%2FPReMjNGPjqxEiqTVzq0EatrhKO8r%2BC7D%2Bx2i45R8HBK1i0MwnkK61M4XvVHdMQTOY6t5WnNFC%2FnR8DEk4QyyWECscrzCqh5gEiAqkPfgPRiVKsFzOYCQaqtod%2F%2FdK8ooW14JPjrzAOGldKoCLyMKXHHlE4eM7qFwmXxCSW%2BC9oGaDIF8u4Q%2Bk1RQel2M6114dWF9ctI3E8g%3D%3D&response-content-disposition=attachment%3B+filename%3Dtrain.csv.zip'\n",
        "test_url = 'https://storage.googleapis.com/kaggle-competitions-data/kaggle-v2/68699/7659021/compressed/test.csv.zip?GoogleAccessId=web-data@kaggle-161607.iam.gserviceaccount.com&Expires=1709639997&Signature=k6x0My8UVzop%2FD5vmIMbu6NjRSxvKl7dxwl%2B7s2CWQ6HJX73UhcDxCmUHBXabPZ6ZV6P8ukpATAjkGvDc9Lx9SjuTwF1MeaWIZD7P%2FizpwXfBeEOhFkkBRVLOTS%2B4sCkpn3WaFtnEpaaRmKk23Z9vUreCwSGoFBc%2Fk4UcVzabdhhpsGb1h9d3oqBFcF1hHEy%2F8VruQB06854PPjyFZYGF3X0p37SYgqy7Q%2BdLaStCWdRQ3Gt6QXNqDaDt4Zw9DpyeneyBS4c%2FySk5iQTLIlB9p8KD2SQKOHJU5f4Rgek5abXO5SxzrITmLt5q0RlLMNxoByfT8aEXbapwOQKd8XBAA%3D%3D&response-content-disposition=attachment%3B+filename%3Dtest.csv.zip'\n",
        "\n",
        "train_ds = pd.read_csv(train_url, index_col=['id'])\n",
        "test_ds = pd.read_csv(test_url, index_col=['id'])"
      ],
      "metadata": {
        "id": "FK5TChS4CYmH"
      },
      "execution_count": 8,
      "outputs": []
    },
    {
      "cell_type": "code",
      "source": [
        "y_cols = ['Pastry', 'Z_Scratch', 'K_Scatch', 'Stains', 'Dirtiness', 'Bumps', 'Other_Faults']\n",
        "x_cols = [col for col in train_ds.columns if not col in y_cols]\n",
        "\n",
        "train_x = train_ds[x_cols]\n",
        "train_y = train_ds[y_cols]\n",
        "test_x = test_ds[x_cols]"
      ],
      "metadata": {
        "id": "7495Bj3eCyTE"
      },
      "execution_count": 15,
      "outputs": []
    },
    {
      "cell_type": "code",
      "source": [
        "train_x.info()"
      ],
      "metadata": {
        "colab": {
          "base_uri": "https://localhost:8080/"
        },
        "id": "qw1A1RcMI7LF",
        "outputId": "f683ed80-bcfa-4877-f2c8-b736a7c009e6"
      },
      "execution_count": 16,
      "outputs": [
        {
          "output_type": "stream",
          "name": "stdout",
          "text": [
            "<class 'pandas.core.frame.DataFrame'>\n",
            "Int64Index: 19219 entries, 0 to 19218\n",
            "Data columns (total 27 columns):\n",
            " #   Column                 Non-Null Count  Dtype  \n",
            "---  ------                 --------------  -----  \n",
            " 0   X_Minimum              19219 non-null  int64  \n",
            " 1   X_Maximum              19219 non-null  int64  \n",
            " 2   Y_Minimum              19219 non-null  int64  \n",
            " 3   Y_Maximum              19219 non-null  int64  \n",
            " 4   Pixels_Areas           19219 non-null  int64  \n",
            " 5   X_Perimeter            19219 non-null  int64  \n",
            " 6   Y_Perimeter            19219 non-null  int64  \n",
            " 7   Sum_of_Luminosity      19219 non-null  int64  \n",
            " 8   Minimum_of_Luminosity  19219 non-null  int64  \n",
            " 9   Maximum_of_Luminosity  19219 non-null  int64  \n",
            " 10  Length_of_Conveyer     19219 non-null  int64  \n",
            " 11  TypeOfSteel_A300       19219 non-null  int64  \n",
            " 12  TypeOfSteel_A400       19219 non-null  int64  \n",
            " 13  Steel_Plate_Thickness  19219 non-null  int64  \n",
            " 14  Edges_Index            19219 non-null  float64\n",
            " 15  Empty_Index            19219 non-null  float64\n",
            " 16  Square_Index           19219 non-null  float64\n",
            " 17  Outside_X_Index        19219 non-null  float64\n",
            " 18  Edges_X_Index          19219 non-null  float64\n",
            " 19  Edges_Y_Index          19219 non-null  float64\n",
            " 20  Outside_Global_Index   19219 non-null  float64\n",
            " 21  LogOfAreas             19219 non-null  float64\n",
            " 22  Log_X_Index            19219 non-null  float64\n",
            " 23  Log_Y_Index            19219 non-null  float64\n",
            " 24  Orientation_Index      19219 non-null  float64\n",
            " 25  Luminosity_Index       19219 non-null  float64\n",
            " 26  SigmoidOfAreas         19219 non-null  float64\n",
            "dtypes: float64(13), int64(14)\n",
            "memory usage: 4.1 MB\n"
          ]
        }
      ]
    }
  ]
}